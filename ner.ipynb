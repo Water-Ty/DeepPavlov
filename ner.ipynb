{
  "cells": [
    {
      "cell_type": "code",
      "execution_count": null,
      "id": "27c1d209-6d26-49b9-a2a9-6a69b4ed4445",
      "metadata": {
        "id": "27c1d209-6d26-49b9-a2a9-6a69b4ed4445"
      },
      "outputs": [],
      "source": [
        "!pip install deeppavlov"
      ]
    },
    {
      "cell_type": "code",
      "execution_count": null,
      "id": "65a41612-9e22-4e28-b955-2837028e78d7",
      "metadata": {
        "id": "65a41612-9e22-4e28-b955-2837028e78d7"
      },
      "outputs": [],
      "source": [
        "!python -m deeppavlov install ner_bert_base"
      ]
    },
    {
      "cell_type": "code",
      "execution_count": null,
      "id": "31c5130e-44fc-4956-9dd5-fc2a7ed1f48e",
      "metadata": {
        "id": "31c5130e-44fc-4956-9dd5-fc2a7ed1f48e"
      },
      "outputs": [],
      "source": [
        "from deeppavlov import build_model\n",
        "ner_model = build_model('ner_ontonotes_bert', download=True, install=True)\n",
        "ner_model(['Bob Ross lived in Florida', 'Elon Musk founded Tesla'])"
      ]
    },
    {
      "cell_type": "code",
      "source": [
        "# The model can be easily retrained on the other HuggingFcae backbone\n",
        "from deeppavlov import train_model\n",
        "from deeppavlov.core.commands.utils import parse_config\n",
        "\n",
        "model_config = parse_config('ner_bert_base')\n",
        "model_config['metadata']['variables']['BASE_MODEL']='distilbert/distilbert-base-cased'\n",
        "ner_model = train_model(model_config)"
      ],
      "metadata": {
        "id": "eKCXI8JJi1k7"
      },
      "id": "eKCXI8JJi1k7",
      "execution_count": null,
      "outputs": []
    },
    {
      "cell_type": "code",
      "execution_count": null,
      "id": "64ae25a7-dd5b-42e9-b157-920ee03ea9e3",
      "metadata": {
        "id": "64ae25a7-dd5b-42e9-b157-920ee03ea9e3"
      },
      "outputs": [],
      "source": [
        "#To get predictions in an interactive mode through CLI\n",
        "!python -m deeppavlov interact ner_bert_base -d"
      ]
    },
    {
      "cell_type": "code",
      "execution_count": null,
      "id": "273d7f72-c63c-479f-96c7-4d985268a1b5",
      "metadata": {
        "id": "273d7f72-c63c-479f-96c7-4d985268a1b5"
      },
      "outputs": [],
      "source": [
        "#The model can be easily made available for inference as a REST web service\n",
        "!python -m deeppavlov riseapi ner_bert_base -d"
      ]
    }
  ],
  "metadata": {
    "kernelspec": {
      "display_name": "Python 3",
      "language": "python",
      "name": "python3"
    },
    "language_info": {
      "codemirror_mode": {
        "name": "ipython",
        "version": 3
      },
      "file_extension": ".py",
      "mimetype": "text/x-python",
      "name": "python",
      "nbconvert_exporter": "python",
      "pygments_lexer": "ipython3",
      "version": "3.7.10"
    },
    "colab": {
      "provenance": []
    }
  },
  "nbformat": 4,
  "nbformat_minor": 5
}